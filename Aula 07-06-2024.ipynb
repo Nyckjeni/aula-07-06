{
 "cells": [
  {
   "cell_type": "code",
   "execution_count": 15,
   "metadata": {},
   "outputs": [],
   "source": [
    "def funcaoLeitura():\n",
    "    for num in [1,2,3,4,5]:\n",
    "        print(\"Número\", num)"
   ]
  },
  {
   "cell_type": "code",
   "execution_count": 16,
   "metadata": {},
   "outputs": [
    {
     "name": "stdout",
     "output_type": "stream",
     "text": [
      "Número 1\n",
      "Número 2\n",
      "Número 3\n",
      "Número 4\n",
      "Número 5\n"
     ]
    }
   ],
   "source": [
    "funcaoLeitura()\n"
   ]
  },
  {
   "cell_type": "code",
   "execution_count": 17,
   "metadata": {},
   "outputs": [],
   "source": [
    "def funcaoLeitura():\n",
    "    for num in range (5):\n",
    "        print(\"Número\",num)"
   ]
  },
  {
   "cell_type": "code",
   "execution_count": 18,
   "metadata": {},
   "outputs": [
    {
     "name": "stdout",
     "output_type": "stream",
     "text": [
      "Número 0\n",
      "Número 1\n",
      "Número 2\n",
      "Número 3\n",
      "Número 4\n"
     ]
    }
   ],
   "source": [
    "funcaoLeitura()"
   ]
  },
  {
   "cell_type": "code",
   "execution_count": null,
   "metadata": {},
   "outputs": [],
   "source": [
    "#Função para somardois números\n",
    "\n",
    "def addNum (n1,n2):\n",
    "    print(\"O primeiro número é:\", n1)\n",
    "    print(\"O segundo número é:\", n2)\n",
    "    print(\"A soma números é: \", n1+n2)"
   ]
  },
  {
   "cell_type": "code",
   "execution_count": null,
   "metadata": {},
   "outputs": [],
   "source": [
    "addNum()"
   ]
  },
  {
   "cell_type": "code",
   "execution_count": null,
   "metadata": {},
   "outputs": [],
   "source": [
    "addNum(4,3)"
   ]
  },
  {
   "cell_type": "code",
   "execution_count": null,
   "metadata": {},
   "outputs": [],
   "source": [
    "addNum(2,6)"
   ]
  },
  {
   "cell_type": "code",
   "execution_count": 19,
   "metadata": {},
   "outputs": [
    {
     "name": "stdout",
     "output_type": "stream",
     "text": [
      "variável da função Multiplica: 20\n",
      "10\n"
     ]
    }
   ],
   "source": [
    "#Diferença de váriavel global para variável local\n",
    "\n",
    "varGlobal= 10 #essa é a variável global\n",
    "def multiplicacao(num1,num2):\n",
    "    #apesar do mesmo nome, é uma variável local:\n",
    "    varGlobal=(num1*num2)\n",
    "    print(\"variável da função Multiplica:\", varGlobal)\n",
    "    \n",
    "multiplicacao(5,4)\n",
    "print(varGlobal)"
   ]
  },
  {
   "cell_type": "code",
   "execution_count": 26,
   "metadata": {},
   "outputs": [],
   "source": [
    "varGlobal= 10 #essa é a variável global\n",
    "def multiplica(num1,num2):\n",
    "    #apesar do mesmo nome, é uma variável local:\n",
    "    varLocal= num1*num2\n",
    "    print(\"variável da função Multiplica:\", varLocal)\n",
    "    print(varLocal)"
   ]
  },
  {
   "cell_type": "code",
   "execution_count": 27,
   "metadata": {},
   "outputs": [
    {
     "name": "stdout",
     "output_type": "stream",
     "text": [
      "variável da função Multiplica: 20\n",
      "20\n"
     ]
    }
   ],
   "source": [
    "multiplica(5,4)"
   ]
  },
  {
   "cell_type": "code",
   "execution_count": null,
   "metadata": {},
   "outputs": [],
   "source": [
    "print(varLocal) #variável existe somente dentro da função"
   ]
  },
  {
   "cell_type": "code",
   "execution_count": null,
   "metadata": {},
   "outputs": [],
   "source": [
    "range() #é uma função"
   ]
  },
  {
   "cell_type": "code",
   "execution_count": null,
   "metadata": {},
   "outputs": [],
   "source": [
    "lista.append( ) # método"
   ]
  },
  {
   "cell_type": "code",
   "execution_count": 33,
   "metadata": {},
   "outputs": [],
   "source": [
    "#criando função com outras funções\n",
    "\n",
    "def separarTexto(texto):\n",
    "    return texto.split () # o método split serve para separar texto"
   ]
  },
  {
   "cell_type": "code",
   "execution_count": 34,
   "metadata": {},
   "outputs": [
    {
     "data": {
      "text/plain": [
       "['Cibele', 'Maria', 'Suely']"
      ]
     },
     "execution_count": 34,
     "metadata": {},
     "output_type": "execute_result"
    }
   ],
   "source": [
    "separarTexto(\"Cibele Maria Suely\")\n",
    "\n"
   ]
  },
  {
   "cell_type": "code",
   "execution_count": 35,
   "metadata": {},
   "outputs": [],
   "source": [
    "#Quando  sabemos a quantidade de parâmetros basta usar o * no parâmetro\n",
    "\n",
    "def variosParametros(*parametros):\n",
    "    for n, item in enumerate(parametros):\n",
    "        print(\"Parâmetro\", n, item)\n",
    "    return \n",
    "    "
   ]
  },
  {
   "cell_type": "code",
   "execution_count": null,
   "metadata": {},
   "outputs": [],
   "source": [
    "variosParametros(\"pitomba\",\"jambo\",\"siriguela\",\"umbu\")"
   ]
  },
  {
   "cell_type": "code",
   "execution_count": 3,
   "metadata": {},
   "outputs": [],
   "source": [
    "#CALCULADORA\n",
    "\n",
    "def soma (n1, n2):\n",
    "    return n1+n2\n",
    "\n",
    "def subtrai (n1,n2):\n",
    "    return n1-n2\n",
    "\n",
    "def multiplica (n1,n2):\n",
    "    return n1*n2\n",
    "\n",
    "def divisao (n1,n2):\n",
    "    return n1/n2\n",
    "    "
   ]
  },
  {
   "cell_type": "code",
   "execution_count": 5,
   "metadata": {},
   "outputs": [
    {
     "name": "stdout",
     "output_type": "stream",
     "text": [
      "+====================+\n",
      "| MENU DE OPERAÇÕES |\n",
      "|   1- Somar        |\n",
      "|   2- Subtrair     |\n",
      "|   3- Multiplicar  |\n",
      "|   4- Dividir      |\n",
      "|   0- Sair         |\n",
      "+====================+\n",
      "Erro!!! Digite um valor válido,\n",
      "+====================+\n",
      "| MENU DE OPERAÇÕES |\n",
      "|   1- Somar        |\n",
      "|   2- Subtrair     |\n",
      "|   3- Multiplicar  |\n",
      "|   4- Dividir      |\n",
      "|   0- Sair         |\n",
      "+====================+\n"
     ]
    }
   ],
   "source": [
    "while True:\n",
    "    print(\"+====================+\")\n",
    "    print(\"| MENU DE OPERAÇÕES |\")\n",
    "    print(\"|   1- Somar        |\")\n",
    "    print(\"|   2- Subtrair     |\")\n",
    "    print(\"|   3- Multiplicar  |\")\n",
    "    print(\"|   4- Dividir      |\")\n",
    "    print(\"|   0- Sair         |\")\n",
    "    print(\"+====================+\")\n",
    "    \n",
    "    op = int(input())\n",
    "    if op==0:\n",
    "        break\n",
    "    \n",
    "    n1 = int(input(\"Primeiro número:\"))\n",
    "    n2 = int(input(\"Segundo número:\"))\n",
    "    \n",
    "    if op==1:\n",
    "        print(\"O resultado da soma é:\", soma(n1,n2))\n",
    "    elif op==2:\n",
    "        print(\"O resultado da subtração é:\", subtrai (n1,n2))\n",
    "    elif op==3:\n",
    "        print(\"O resultado da multiplicação é:\", multiplica (n1,n2))\n",
    "    elif op==4:\n",
    "        print(\"O resultado da divisão é:\", divisao (n1,n2))\n",
    "        \n",
    "    else:\n",
    "        print(\"Erro!!! Digite um valor válido\")\n",
    "        \n",
    "# quando pedir a opção da calculadora  que não estiver entre 1,2,3,4, deve informar erro e pedir novamente um número! Calculadora minha filha, melhore! \n",
    "    "
   ]
  }
 ],
 "metadata": {
  "kernelspec": {
   "display_name": "Python 3",
   "language": "python",
   "name": "python3"
  },
  "language_info": {
   "codemirror_mode": {
    "name": "ipython",
    "version": 3
   },
   "file_extension": ".py",
   "mimetype": "text/x-python",
   "name": "python",
   "nbconvert_exporter": "python",
   "pygments_lexer": "ipython3",
   "version": "3.11.9"
  }
 },
 "nbformat": 4,
 "nbformat_minor": 2
}
